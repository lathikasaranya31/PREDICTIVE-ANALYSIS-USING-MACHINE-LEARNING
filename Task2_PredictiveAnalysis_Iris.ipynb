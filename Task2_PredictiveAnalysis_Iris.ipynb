{
 "cells": [
  {
   "cell_type": "markdown",
   "id": "1fd6d989",
   "metadata": {},
   "source": [
    "# Task 2: Predictive Analysis using Machine Learning\n",
    "**Internship:** CODTECH\n",
    "\n",
    "**Dataset Used:** Iris Flower Dataset (from sklearn)\n",
    "\n",
    "This notebook builds a classification model to predict the species of an iris flower based on its features. It includes feature selection, model training, and evaluation steps."
   ]
  },
  {
   "cell_type": "code",
   "execution_count": null,
   "id": "b7d2f016",
   "metadata": {},
   "outputs": [],
   "source": [
    "import pandas as pd\n",
    "import seaborn as sns\n",
    "import matplotlib.pyplot as plt\n",
    "from sklearn.datasets import load_iris\n",
    "from sklearn.model_selection import train_test_split\n",
    "from sklearn.ensemble import RandomForestClassifier\n",
    "from sklearn.metrics import accuracy_score, classification_report, confusion_matrix\n"
   ]
  },
  {
   "cell_type": "code",
   "execution_count": null,
   "id": "2b4eae62",
   "metadata": {},
   "outputs": [],
   "source": [
    "# Load the iris dataset\n",
    "iris = load_iris()\n",
    "df = pd.DataFrame(iris.data, columns=iris.feature_names)\n",
    "df['species'] = iris.target\n",
    "\n",
    "# Map target numbers to actual names\n",
    "df['species'] = df['species'].map(dict(enumerate(iris.target_names)))\n",
    "\n",
    "# Display first few rows\n",
    "df.head()\n"
   ]
  },
  {
   "cell_type": "code",
   "execution_count": null,
   "id": "b41107c1",
   "metadata": {},
   "outputs": [],
   "source": [
    "# Visualize pairplot\n",
    "sns.pairplot(df, hue=\"species\")\n",
    "plt.show()\n"
   ]
  },
  {
   "cell_type": "code",
   "execution_count": null,
   "id": "194860fd",
   "metadata": {},
   "outputs": [],
   "source": [
    "# Features and labels\n",
    "X = df.drop(\"species\", axis=1)\n",
    "y = df[\"species\"]\n",
    "\n",
    "# Train-test split\n",
    "X_train, X_test, y_train, y_test = train_test_split(X, y, test_size=0.2, random_state=42)\n"
   ]
  },
  {
   "cell_type": "code",
   "execution_count": null,
   "id": "ad15f435",
   "metadata": {},
   "outputs": [],
   "source": [
    "# Train a Random Forest Classifier\n",
    "model = RandomForestClassifier(n_estimators=100, random_state=42)\n",
    "model.fit(X_train, y_train)\n"
   ]
  },
  {
   "cell_type": "code",
   "execution_count": null,
   "id": "f4341298",
   "metadata": {},
   "outputs": [],
   "source": [
    "# Make predictions\n",
    "y_pred = model.predict(X_test)\n",
    "\n",
    "# Evaluate the model\n",
    "print(\"Accuracy Score:\", accuracy_score(y_test, y_pred))\n",
    "print(\"\\nClassification Report:\\n\", classification_report(y_test, y_pred))\n",
    "print(\"\\nConfusion Matrix:\\n\", confusion_matrix(y_test, y_pred))\n"
   ]
  }
 ],
 "metadata": {},
 "nbformat": 4,
 "nbformat_minor": 5
}
